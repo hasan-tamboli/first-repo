{
  "nbformat": 4,
  "nbformat_minor": 0,
  "metadata": {
    "colab": {
      "provenance": [],
      "authorship_tag": "ABX9TyPM1nz2SYQw4/s2PqPQpepw",
      "include_colab_link": true
    },
    "kernelspec": {
      "name": "python3",
      "display_name": "Python 3"
    },
    "language_info": {
      "name": "python"
    }
  },
  "cells": [
    {
      "cell_type": "markdown",
      "metadata": {
        "id": "view-in-github",
        "colab_type": "text"
      },
      "source": [
        "<a href=\"https://colab.research.google.com/github/hasan-tamboli/first-repo/blob/main/Untitled12.ipynb\" target=\"_parent\"><img src=\"https://colab.research.google.com/assets/colab-badge.svg\" alt=\"Open In Colab\"/></a>"
      ]
    },
    {
      "cell_type": "code",
      "execution_count": 1,
      "metadata": {
        "id": "DefDb0OYgE8R"
      },
      "outputs": [],
      "source": [
        "import pandas as pd\n"
      ]
    },
    {
      "cell_type": "code",
      "source": [
        "# Data for inventory\n",
        "data = {\n",
        "    'item': ['Rice (kg)', 'Atta (kg)', 'Dal (kg)', 'Sugar (kg)', 'Oil (litre)', 'Spices (pkt)', 'Tea (pkt)', 'Biscuits (pkt)'],\n",
        "    'quantity': [100, 80, 50, 60, 30, 100, 50, 120],\n",
        "    'price': [60, 40, 120, 45, 180, 30, 80, 20]\n",
        "}\n",
        "inventory = pd.DataFrame(data)\n"
      ],
      "metadata": {
        "id": "CNZP2tLEgFs0"
      },
      "execution_count": 2,
      "outputs": []
    },
    {
      "cell_type": "code",
      "source": [
        "# Function to update inventory after a sale\n",
        "def update_inventory(item, quantity):\n",
        "    if item in inventory['item'].values:\n",
        "        index = inventory[inventory['item'] == item].index[0]\n",
        "        if inventory.loc[index, 'quantity'] >= quantity:\n",
        "            inventory.loc[index, 'quantity'] -= quantity\n",
        "            print(f\"{quantity} {item} sold.\")\n",
        "        else:\n",
        "            print(f\"Insufficient stock for {item}. Only {inventory.loc[index, 'quantity']} in stock.\")\n",
        "    else:\n",
        "        print(f\"{item} not found in inventory.\")"
      ],
      "metadata": {
        "id": "wYZemG6sgLUi"
      },
      "execution_count": 3,
      "outputs": []
    },
    {
      "cell_type": "code",
      "source": [
        "# Function to generate a bill\n",
        "def generate_bill(items, quantities):\n",
        "    total_bill = 0\n",
        "    print(\"---- Bill ----\")\n",
        "    for item, quantity in zip(items, quantities):\n",
        "        if item in inventory['item'].values:\n",
        "            index = inventory[inventory['item'] == item].index[0]\n",
        "            price = inventory.loc[index, 'price']\n",
        "            cost = price * quantity\n",
        "            print(f\"{item} * {quantity} - {cost:.2f}\")\n",
        "            total_bill += cost\n",
        "        else:\n",
        "            print(f\"{item} not found in inventory.\")\n",
        "    print(f\"Total: {total_bill:.2f}\")"
      ],
      "metadata": {
        "id": "p-RGEStSgQi8"
      },
      "execution_count": 4,
      "outputs": []
    },
    {
      "cell_type": "code",
      "source": [
        "\n",
        "# Test the functions\n",
        "update_inventory('Atta (kg)', 10)\n",
        "\n",
        "# Example of generating a bill\n",
        "items = ['Rice (kg)', 'Atta (kg)', 'Tea (pkt)']\n",
        "quantities = [5, 2, 3]\n",
        "generate_bill(items, quantities)"
      ],
      "metadata": {
        "colab": {
          "base_uri": "https://localhost:8080/"
        },
        "id": "4Ba8ugvVgWDk",
        "outputId": "b79508b2-6309-4888-ccb2-4c91bd824dd5"
      },
      "execution_count": 5,
      "outputs": [
        {
          "output_type": "stream",
          "name": "stdout",
          "text": [
            "10 Atta (kg) sold.\n",
            "---- Bill ----\n",
            "Rice (kg) * 5 - 300.00\n",
            "Atta (kg) * 2 - 80.00\n",
            "Tea (pkt) * 3 - 240.00\n",
            "Total: 620.00\n"
          ]
        }
      ]
    },
    {
      "cell_type": "code",
      "source": [],
      "metadata": {
        "id": "Gd8fwnqJgapT"
      },
      "execution_count": null,
      "outputs": []
    }
  ]
}